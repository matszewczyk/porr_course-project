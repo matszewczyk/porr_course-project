{
 "cells": [
  {
   "cell_type": "code",
   "execution_count": 95,
   "metadata": {},
   "outputs": [],
   "source": [
    "import numpy as np"
   ]
  },
  {
   "cell_type": "code",
   "execution_count": 107,
   "metadata": {},
   "outputs": [],
   "source": [
    "def func1(x):\n",
    "    x = np.array(x)\n",
    "    i = np.array(range(1,len(x)+1))\n",
    "    result = 1/40*np.sum(x**2) + 1 - np.prod(np.cos(x/i))\n",
    "    \n",
    "    return result"
   ]
  },
  {
   "cell_type": "code",
   "execution_count": 108,
   "metadata": {},
   "outputs": [],
   "source": [
    "# Zmieniam znak przy 20 na koncu równania (z +20 na -20)\n",
    "def func2(x):\n",
    "    x = np.array(x)\n",
    "    n = len(x)\n",
    "    result_1 = 20 * np.exp(-0.2 * np.sqrt(1/n * np.sum(x**2)))\n",
    "    result_2 = - np.exp(1/n * np.sum(np.cos(2*np.pi*x))) - 20 + np.e\n",
    "    return result_1 + result_2"
   ]
  },
  {
   "cell_type": "markdown",
   "metadata": {},
   "source": [
    "Wrzuciłem funkcje w wolframa:\n",
    "\n",
    "https://www.wolframalpha.com/input/?i=20*e%28-0.2*sqrt%28x%5E2%29%29+-+exp%28cos%282*pi*x%29%29+%2B+20+%2B+e\n",
    "\n",
    "Wygląda na to, że powinno też być max, a nie min ;)"
   ]
  },
  {
   "cell_type": "code",
   "execution_count": 137,
   "metadata": {},
   "outputs": [],
   "source": [
    "def initial_pop_generation(x, n, start_wth_zeros=True, min_value_n=None,\n",
    "                           max_value_n=None):\n",
    "    '''\n",
    "    x : int\n",
    "        parzysta liczba osobników\n",
    "    n : int\n",
    "        parzysta liczba genów\n",
    "    start_wth_zeros : bool\n",
    "        True - początkowe cechy osobnika równ zeru\n",
    "        False - losowo dobrane cechy początkowe\n",
    "    '''\n",
    "    population = []\n",
    "    if start_wth_zeros:\n",
    "        for i in range(x):\n",
    "            individual = np.array([0 for i in range(0, n)])\n",
    "            population.append(individual)\n",
    "    else:\n",
    "        if (min_value_n == None or max_value_n == None):\n",
    "            raise Exception('Set min&max value for n or set start_with_zeros to True')\n",
    "        \n",
    "        for i in range(x):\n",
    "            individual = np.array([np.random.randint(min_value_n, max_value_n) for i in range(0, n)])\n",
    "            population.append(individual)\n",
    "\n",
    "    return population"
   ]
  },
  {
   "cell_type": "code",
   "execution_count": 134,
   "metadata": {},
   "outputs": [
    {
     "data": {
      "text/plain": [
       "[array([3, 3]), array([0, 2]), array([1, 6])]"
      ]
     },
     "execution_count": 134,
     "metadata": {},
     "output_type": "execute_result"
    }
   ],
   "source": [
    "initial_pop_generation(3,2,False,0,10)"
   ]
  },
  {
   "cell_type": "code",
   "execution_count": 135,
   "metadata": {},
   "outputs": [
    {
     "data": {
      "text/plain": [
       "[array([0, 0]), array([0, 0]), array([0, 0])]"
      ]
     },
     "execution_count": 135,
     "metadata": {},
     "output_type": "execute_result"
    }
   ],
   "source": [
    "initial_pop_generation(3,2)"
   ]
  },
  {
   "cell_type": "code",
   "execution_count": 151,
   "metadata": {},
   "outputs": [],
   "source": [
    "population = [[18,-20],[-4,-10],[10,11],[15,-15]]"
   ]
  },
  {
   "cell_type": "code",
   "execution_count": 155,
   "metadata": {},
   "outputs": [],
   "source": [
    "def crossing(indiv1, indiv2,n):\n",
    "    '''\n",
    "    indiv1\n",
    "\n",
    "    indiv2\n",
    "    '''\n",
    "    #losowanie locus podzialu\n",
    "    locus = np.random.randint(0, n)\n",
    "    embryo1 = indiv1[:locus] + indiv2[locus:]\n",
    "    embryo2 = indiv2[:locus] + indiv1[locus:]\n",
    "\n",
    "    return embryo1, embryo2"
   ]
  },
  {
   "cell_type": "code",
   "execution_count": 172,
   "metadata": {},
   "outputs": [
    {
     "data": {
      "text/plain": [
       "0.33042872249111277"
      ]
     },
     "execution_count": 172,
     "metadata": {},
     "output_type": "execute_result"
    }
   ],
   "source": [
    "np.random.rand()"
   ]
  },
  {
   "cell_type": "code",
   "execution_count": 180,
   "metadata": {},
   "outputs": [],
   "source": [
    "def mutate(individual):\n",
    "    '''\n",
    "    individual\n",
    "    '''\n",
    "    mutate = False\n",
    "    if np.random.rand() > 0.7:\n",
    "        mutate = True\n",
    "        \n",
    "    for i in range(len(individual)):\n",
    "        if np.random.rand() < 0.05:\n",
    "            individual[i] *= -1\n",
    "    \n",
    "    return individual\n",
    "        "
   ]
  },
  {
   "cell_type": "code",
   "execution_count": 164,
   "metadata": {},
   "outputs": [],
   "source": [
    "def optimize(population, x, n, pokolenia=1):\n",
    "    '''\n",
    "    population : list of numpy arrays\n",
    "        zbiór wszystkich osobników\n",
    "    '''\n",
    "\n",
    "    for j in range(pokolenia):\n",
    "        \n",
    "        embryons = []\n",
    "        for i in range(0, x, 2):\n",
    "            crossing_result = crossing(population[i], population[i+1], n)\n",
    "            embryons.append(crossing_result)\n",
    "        \n",
    "        for embryon in embryons:\n",
    "            new_population.append(mutate(embryon))\n",
    "            \n",
    "    return embryons\n",
    "        "
   ]
  },
  {
   "cell_type": "code",
   "execution_count": 165,
   "metadata": {},
   "outputs": [
    {
     "name": "stdout",
     "output_type": "stream",
     "text": [
      "[18, -20]\n",
      "[-4, -10]\n",
      "[10, 11]\n",
      "[15, -15]\n",
      "[([-4, -10], [18, -20]), ([15, -15], [10, 11])]\n"
     ]
    }
   ],
   "source": [
    "print(optimize(population,4,2))"
   ]
  },
  {
   "cell_type": "code",
   "execution_count": null,
   "metadata": {},
   "outputs": [],
   "source": []
  },
  {
   "cell_type": "code",
   "execution_count": null,
   "metadata": {},
   "outputs": [],
   "source": []
  },
  {
   "cell_type": "code",
   "execution_count": null,
   "metadata": {},
   "outputs": [],
   "source": []
  },
  {
   "cell_type": "code",
   "execution_count": null,
   "metadata": {},
   "outputs": [],
   "source": []
  },
  {
   "cell_type": "code",
   "execution_count": null,
   "metadata": {},
   "outputs": [],
   "source": [
    "def calculate_y(individual, function):\n",
    "    '''\n",
    "    individual : [int]\n",
    "        osobnik\n",
    "    function : function()\n",
    "        funkcja dopasowania\n",
    "    '''\n",
    "    print(function)\n",
    "    y = function(x)\n",
    "    \n",
    "    return y"
   ]
  }
 ],
 "metadata": {
  "kernelspec": {
   "display_name": "Python 3",
   "language": "python",
   "name": "python3"
  },
  "language_info": {
   "codemirror_mode": {
    "name": "ipython",
    "version": 3
   },
   "file_extension": ".py",
   "mimetype": "text/x-python",
   "name": "python",
   "nbconvert_exporter": "python",
   "pygments_lexer": "ipython3",
   "version": "3.7.6"
  }
 },
 "nbformat": 4,
 "nbformat_minor": 4
}
