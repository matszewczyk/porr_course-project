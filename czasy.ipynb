{
 "cells": [
  {
   "cell_type": "code",
   "execution_count": 28,
   "metadata": {},
   "outputs": [],
   "source": [
    "%run functions.ipynb\n",
    "from time import perf_counter"
   ]
  },
  {
   "cell_type": "code",
   "execution_count": 29,
   "metadata": {},
   "outputs": [],
   "source": [
    "# Wielkość populacji\n",
    "x = 100\n",
    "# Liczba genów osobnika\n",
    "n = 0\n",
    "# Inicjowanie osobnika zerami (w przypadku tych zadan nie ma sensu)\n",
    "start_wth_zeros = False\n",
    "# Pradopodobieństwo mutacji\n",
    "p_mutate = 0.2\n",
    "# Zakończ, jeśli wynik najlepszego osobnika nie zmienił się od ... iteracji.\n",
    "end_optim=100"
   ]
  },
  {
   "cell_type": "markdown",
   "metadata": {},
   "source": [
    "## Sekwencyjny"
   ]
  },
  {
   "cell_type": "code",
   "execution_count": 52,
   "metadata": {},
   "outputs": [],
   "source": [
    "iteracje = 10"
   ]
  },
  {
   "cell_type": "markdown",
   "metadata": {},
   "source": [
    "### Funkcja 1 "
   ]
  },
  {
   "cell_type": "code",
   "execution_count": 36,
   "metadata": {},
   "outputs": [],
   "source": [
    "# Funkcja oceny\n",
    "function = func1\n",
    "# Cel (min/max)\n",
    "min_or_max='min'\n",
    "# Minimalna wartość genu\n",
    "min_value_n = -40\n",
    "# Maksymalna wartość genu\n",
    "max_value_n = 40"
   ]
  },
  {
   "cell_type": "code",
   "execution_count": 54,
   "metadata": {},
   "outputs": [
    {
     "name": "stdout",
     "output_type": "stream",
     "text": [
      "Sredni czas:  0.45297024249998685\n",
      "Uzyskane oceny najlepszych osobnikow:\n",
      "[0.0, 0.0, 0.0, 1.06, 0.0, 0.0, 0.0, 0.0, 0.0, 0.0]\n"
     ]
    }
   ],
   "source": [
    "n=2\n",
    "\n",
    "best_scores = []\n",
    "times = []\n",
    "for _ in range(iteracje):\n",
    "    t_start = perf_counter()\n",
    "    population = initial_pop_generation(x,n,start_wth_zeros,min_value_n,max_value_n)\n",
    "    best_gen, best_score,_,_ = optimize(population,x,n,function, min_or_max,end_optim,p_mutate)\n",
    "    t_stop = perf_counter()\n",
    "    best_scores.append(round(best_score,2))\n",
    "    times.append(t_stop-t_start)\n",
    "    \n",
    "print('Sredni czas: ', sum(times)/len(times))\n",
    "print('Uzyskane oceny najlepszych osobnikow:')\n",
    "print(best_scores)\n"
   ]
  },
  {
   "cell_type": "code",
   "execution_count": 49,
   "metadata": {},
   "outputs": [
    {
     "name": "stdout",
     "output_type": "stream",
     "text": [
      "Sredni czas:  0.7243086386999493\n",
      "Uzyskane oceny najlepszych osobnikow:\n",
      "[0.0, 0.0, 0.0, 0.0, 0.0, 0.0, 0.0, 0.0, 0.0, 0.0]\n"
     ]
    }
   ],
   "source": [
    "n=10\n",
    "best_scores = []\n",
    "times = []\n",
    "for _ in range(iteracje):\n",
    "    t_start = perf_counter()\n",
    "    population = initial_pop_generation(x,n,start_wth_zeros,min_value_n,max_value_n)\n",
    "    best_gen, best_score,_,_ = optimize(population,x,n,function, min_or_max,end_optim,p_mutate)\n",
    "    t_stop = perf_counter()\n",
    "    best_scores.append(round(best_score,2))\n",
    "    times.append(t_stop-t_start)\n",
    "    \n",
    "print('Sredni czas: ', sum(times)/len(times))\n",
    "print('Uzyskane oceny najlepszych osobnikow:')\n",
    "print(best_scores)"
   ]
  },
  {
   "cell_type": "code",
   "execution_count": 50,
   "metadata": {},
   "outputs": [
    {
     "name": "stdout",
     "output_type": "stream",
     "text": [
      "Sredni czas:  1.32806663679994\n",
      "Uzyskane oceny najlepszych osobnikow:\n",
      "[0.0, 0.0, 0.0, 0.0, 0.0, 0.0, 0.0, 0.0, 0.0, 0.0]\n"
     ]
    }
   ],
   "source": [
    "n=20\n",
    "best_scores = []\n",
    "times = []\n",
    "for _ in range(iteracje):\n",
    "    t_start = perf_counter()\n",
    "    population = initial_pop_generation(x,n,start_wth_zeros,min_value_n,max_value_n)\n",
    "    best_gen, best_score,_,_ = optimize(population,x,n,function, min_or_max,end_optim,p_mutate)\n",
    "    t_stop = perf_counter()\n",
    "    best_scores.append(round(best_score,2))\n",
    "    times.append(t_stop-t_start)\n",
    "    \n",
    "print('Sredni czas: ', sum(times)/len(times))\n",
    "print('Uzyskane oceny najlepszych osobnikow:')\n",
    "print(best_scores)"
   ]
  },
  {
   "cell_type": "code",
   "execution_count": 51,
   "metadata": {},
   "outputs": [
    {
     "name": "stdout",
     "output_type": "stream",
     "text": [
      "Sredni czas:  3.845484544199917\n",
      "Uzyskane oceny najlepszych osobnikow:\n",
      "[0.26, 0.23, 0.36, 0.2, 0.26, 0.18, 0.23, 0.18, 0.2, 0.21]\n"
     ]
    }
   ],
   "source": [
    "n=50\n",
    "best_scores = []\n",
    "times = []\n",
    "for _ in range(iteracje):\n",
    "    t_start = perf_counter()\n",
    "    population = initial_pop_generation(x,n,start_wth_zeros,min_value_n,max_value_n)\n",
    "    best_gen, best_score,_,_ = optimize(population,x,n,function, min_or_max,end_optim,p_mutate)\n",
    "    t_stop = perf_counter()\n",
    "    best_scores.append(round(best_score,2))\n",
    "    times.append(t_stop-t_start)\n",
    "    \n",
    "print('Sredni czas: ', sum(times)/len(times))\n",
    "print('Uzyskane oceny najlepszych osobnikow:')\n",
    "print(best_scores)"
   ]
  },
  {
   "cell_type": "code",
   "execution_count": 55,
   "metadata": {},
   "outputs": [
    {
     "name": "stdout",
     "output_type": "stream",
     "text": [
      "Sredni czas:  7.659948920499891\n",
      "Uzyskane oceny najlepszych osobnikow:\n",
      "[1.17, 0.85, 1.01, 1.08, 1.1, 0.94, 1.18, 1.22, 1.1, 1.16]\n"
     ]
    }
   ],
   "source": [
    "n=100\n",
    "best_scores = []\n",
    "times = []\n",
    "for _ in range(iteracje):\n",
    "    t_start = perf_counter()\n",
    "    population = initial_pop_generation(x,n,start_wth_zeros,min_value_n,max_value_n)\n",
    "    best_gen, best_score,_,_ = optimize(population,x,n,function, min_or_max,end_optim,p_mutate)\n",
    "    t_stop = perf_counter()\n",
    "    best_scores.append(round(best_score,2))\n",
    "    times.append(t_stop-t_start)\n",
    "    \n",
    "print('Sredni czas: ', sum(times)/len(times))\n",
    "print('Uzyskane oceny najlepszych osobnikow:')\n",
    "print(best_scores)"
   ]
  },
  {
   "cell_type": "markdown",
   "metadata": {},
   "source": [
    "### Funkcja 2"
   ]
  },
  {
   "cell_type": "code",
   "execution_count": 56,
   "metadata": {},
   "outputs": [],
   "source": [
    "# Funkcja oceny\n",
    "function = func2\n",
    "# Cel (min/max)\n",
    "min_or_max='max'\n",
    "# Minimalna wartość genu\n",
    "min_value_n = -30\n",
    "# Maksymalna wartość genu\n",
    "max_value_n = 30"
   ]
  },
  {
   "cell_type": "code",
   "execution_count": 57,
   "metadata": {},
   "outputs": [
    {
     "name": "stdout",
     "output_type": "stream",
     "text": [
      "Sredni czas:  0.4376634367999941\n",
      "Uzyskane oceny najlepszych osobnikow:\n",
      "[0.0, 0.0, 0.0, 0.0, 0.0, 0.0, 0.0, 0.0, 0.0, 0.0]\n"
     ]
    }
   ],
   "source": [
    "n=2\n",
    "best_scores = []\n",
    "times = []\n",
    "for _ in range(iteracje):\n",
    "    t_start = perf_counter()\n",
    "    population = initial_pop_generation(x,n,start_wth_zeros,min_value_n,max_value_n)\n",
    "    best_gen, best_score,_,_ = optimize(population,x,n,function, min_or_max,end_optim,p_mutate)\n",
    "    t_stop = perf_counter()\n",
    "    best_scores.append(round(best_score,2))\n",
    "    times.append(t_stop-t_start)\n",
    "    \n",
    "print('Sredni czas: ', sum(times)/len(times))\n",
    "print('Uzyskane oceny najlepszych osobnikow:')\n",
    "print(best_scores)"
   ]
  },
  {
   "cell_type": "code",
   "execution_count": 58,
   "metadata": {},
   "outputs": [
    {
     "name": "stdout",
     "output_type": "stream",
     "text": [
      "Sredni czas:  0.5978332866000529\n",
      "Uzyskane oceny najlepszych osobnikow:\n",
      "[0.0, 0.0, 0.0, 0.0, 0.0, 0.0, 0.0, 0.0, 0.0, 0.0]\n"
     ]
    }
   ],
   "source": [
    "n=10\n",
    "best_scores = []\n",
    "times = []\n",
    "for _ in range(iteracje):\n",
    "    t_start = perf_counter()\n",
    "    population = initial_pop_generation(x,n,start_wth_zeros,min_value_n,max_value_n)\n",
    "    best_gen, best_score,_,_ = optimize(population,x,n,function, min_or_max,end_optim,p_mutate)\n",
    "    t_stop = perf_counter()\n",
    "    best_scores.append(round(best_score,2))\n",
    "    times.append(t_stop-t_start)\n",
    "    \n",
    "print('Sredni czas: ', sum(times)/len(times))\n",
    "print('Uzyskane oceny najlepszych osobnikow:')\n",
    "print(best_scores)"
   ]
  },
  {
   "cell_type": "code",
   "execution_count": 59,
   "metadata": {},
   "outputs": [
    {
     "name": "stdout",
     "output_type": "stream",
     "text": [
      "Sredni czas:  1.0108738695000283\n",
      "Uzyskane oceny najlepszych osobnikow:\n",
      "[0.0, 0.0, 0.0, 0.0, 0.0, 0.0, 0.0, 0.0, 0.0, 0.0]\n"
     ]
    }
   ],
   "source": [
    "n=20\n",
    "best_scores = []\n",
    "times = []\n",
    "for _ in range(iteracje):\n",
    "    t_start = perf_counter()\n",
    "    population = initial_pop_generation(x,n,start_wth_zeros,min_value_n,max_value_n)\n",
    "    best_gen, best_score,_,_ = optimize(population,x,n,function, min_or_max,end_optim,p_mutate)\n",
    "    t_stop = perf_counter()\n",
    "    best_scores.append(round(best_score,2))\n",
    "    times.append(t_stop-t_start)\n",
    "    \n",
    "print('Sredni czas: ', sum(times)/len(times))\n",
    "print('Uzyskane oceny najlepszych osobnikow:')\n",
    "print(best_scores)"
   ]
  },
  {
   "cell_type": "code",
   "execution_count": 60,
   "metadata": {},
   "outputs": [
    {
     "name": "stdout",
     "output_type": "stream",
     "text": [
      "Sredni czas:  2.8092714457999137\n",
      "Uzyskane oceny najlepszych osobnikow:\n",
      "[-1.63, -1.44, -1.54, -1.34, -1.23, -1.34, -1.63, -1.54, -1.44, -1.54]\n"
     ]
    }
   ],
   "source": [
    "n=50\n",
    "best_scores = []\n",
    "times = []\n",
    "for _ in range(iteracje):\n",
    "    t_start = perf_counter()\n",
    "    population = initial_pop_generation(x,n,start_wth_zeros,min_value_n,max_value_n)\n",
    "    best_gen, best_score,_,_ = optimize(population,x,n,function, min_or_max,end_optim,p_mutate)\n",
    "    t_stop = perf_counter()\n",
    "    best_scores.append(round(best_score,2))\n",
    "    times.append(t_stop-t_start)\n",
    "    \n",
    "print('Sredni czas: ', sum(times)/len(times))\n",
    "print('Uzyskane oceny najlepszych osobnikow:')\n",
    "print(best_scores)"
   ]
  },
  {
   "cell_type": "code",
   "execution_count": 61,
   "metadata": {},
   "outputs": [
    {
     "name": "stdout",
     "output_type": "stream",
     "text": [
      "Sredni czas:  5.36921836940005\n",
      "Uzyskane oceny najlepszych osobnikow:\n",
      "[-2.4, -2.38, -2.48, -2.38, -2.48, -2.26, -2.38, -2.35, -2.38, -2.51]\n"
     ]
    }
   ],
   "source": [
    "n=100\n",
    "best_scores = []\n",
    "times = []\n",
    "for _ in range(iteracje):\n",
    "    t_start = perf_counter()\n",
    "    population = initial_pop_generation(x,n,start_wth_zeros,min_value_n,max_value_n)\n",
    "    best_gen, best_score,_,_ = optimize(population,x,n,function, min_or_max,end_optim,p_mutate)\n",
    "    t_stop = perf_counter()\n",
    "    best_scores.append(round(best_score,2))\n",
    "    times.append(t_stop-t_start)\n",
    "    \n",
    "print('Sredni czas: ', sum(times)/len(times))\n",
    "print('Uzyskane oceny najlepszych osobnikow:')\n",
    "print(best_scores)"
   ]
  },
  {
   "cell_type": "code",
   "execution_count": 62,
   "metadata": {},
   "outputs": [
    {
     "name": "stdout",
     "output_type": "stream",
     "text": [
      "[ 1  0  0  0 -1 -1  0  1  1  0  0 -1 -1  0 -1 -1  0 -1  0  0  0  0  0  1\n",
      "  1  0  0  0  0  0  0 -1 -1  0  1  0  1  0  0  0  0  0  0  0  0  0  0  0\n",
      "  0  1  0  2 -1  0  0  1  1  0  1  0  1  0  0  1  1  1  1 -1  1  0 -1  0\n",
      "  0  1  0  0  1  0  0  1  0  0  0  0  0 -1  0  0  0  0  1  1  0  0  0 -1\n",
      "  0  0 -1  2]\n"
     ]
    }
   ],
   "source": [
    "print(best_gen)"
   ]
  },
  {
   "cell_type": "code",
   "execution_count": null,
   "metadata": {},
   "outputs": [],
   "source": []
  }
 ],
 "metadata": {
  "kernelspec": {
   "display_name": "Python 3",
   "language": "python",
   "name": "python3"
  },
  "language_info": {
   "codemirror_mode": {
    "name": "ipython",
    "version": 3
   },
   "file_extension": ".py",
   "mimetype": "text/x-python",
   "name": "python",
   "nbconvert_exporter": "python",
   "pygments_lexer": "ipython3",
   "version": "3.6.8"
  }
 },
 "nbformat": 4,
 "nbformat_minor": 4
}
