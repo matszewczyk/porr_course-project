{
 "cells": [
  {
   "cell_type": "code",
   "execution_count": 276,
   "metadata": {},
   "outputs": [],
   "source": [
    "import numpy as np"
   ]
  },
  {
   "cell_type": "code",
   "execution_count": 277,
   "metadata": {},
   "outputs": [],
   "source": [
    "def func1(x):\n",
    "    x = np.array(x)\n",
    "    i = np.array(range(1,len(x)+1))\n",
    "    result = 1/40*np.sum(x**2) + 1 - np.prod(np.cos(x/i))\n",
    "    \n",
    "    return result"
   ]
  },
  {
   "cell_type": "code",
   "execution_count": 278,
   "metadata": {},
   "outputs": [],
   "source": [
    "# Zmieniam znak przy 20 na koncu równania (z +20 na -20)\n",
    "def func2(x):\n",
    "    x = np.array(x)\n",
    "    n = len(x)\n",
    "    result_1 = 20 * np.exp(-0.2 * np.sqrt(1/n * np.sum(x**2)))\n",
    "    result_2 = - np.exp(1/n * np.sum(np.cos(2*np.pi*x))) - 20 + np.e\n",
    "    return result_1 + result_2"
   ]
  },
  {
   "cell_type": "markdown",
   "metadata": {},
   "source": [
    "Wrzuciłem funkcje w wolframa:\n",
    "\n",
    "https://www.wolframalpha.com/input/?i=20*e%28-0.2*sqrt%28x%5E2%29%29+-+exp%28cos%282*pi*x%29%29+%2B+20+%2B+e\n",
    "\n",
    "Wygląda na to, że powinno też być max, a nie min ;)"
   ]
  },
  {
   "cell_type": "code",
   "execution_count": 279,
   "metadata": {},
   "outputs": [],
   "source": [
    "def initial_pop_generation(x, n, start_wth_zeros=False, min_value_n=None,\n",
    "                           max_value_n=None):\n",
    "    '''\n",
    "    x : int\n",
    "        parzysta liczba osobników\n",
    "    n : int\n",
    "        parzysta liczba genów\n",
    "    start_wth_zeros : bool\n",
    "        True - początkowe cechy osobnika równ zeru\n",
    "        False - losowo dobrane cechy początkowe\n",
    "    '''\n",
    "    population = []\n",
    "    if start_wth_zeros:\n",
    "        for i in range(x):\n",
    "            individual = np.array([0 for i in range(0, n)])\n",
    "            population.append(individual)\n",
    "    else:\n",
    "        if (min_value_n == None or max_value_n == None):\n",
    "            raise Exception('Set min&max value for n or set start_with_zeros to True')\n",
    "        \n",
    "        for i in range(x):\n",
    "            individual = np.array([np.random.randint(min_value_n, max_value_n) for i in range(0, n)])\n",
    "            population.append(individual)\n",
    "\n",
    "    return population"
   ]
  },
  {
   "cell_type": "code",
   "execution_count": 280,
   "metadata": {},
   "outputs": [],
   "source": [
    "def crossing(indiv1, indiv2,n):\n",
    "    '''\n",
    "    indiv1\n",
    "\n",
    "    indiv2\n",
    "    '''\n",
    "    #losowanie locus podzialu\n",
    "    locus = np.random.randint(0, n)\n",
    "    embryo1 = np.concatenate((indiv1[:locus],indiv2[locus:]))\n",
    "    embryo2 = np.concatenate((indiv2[:locus],indiv1[locus:]))\n",
    "\n",
    "    return embryo1, embryo2"
   ]
  },
  {
   "cell_type": "code",
   "execution_count": 281,
   "metadata": {},
   "outputs": [],
   "source": [
    "def mutate(individual, p_mutate):\n",
    "    '''\n",
    "    individuals : [int]\n",
    "        list of the genes of the individual\n",
    "    '''\n",
    "\n",
    "    for i in range(len(individual)):\n",
    "        r = np.random.rand()\n",
    "        if r < p_mutate/2:\n",
    "            individual[i] -= 1\n",
    "        elif r < p_mutate:\n",
    "            individual[i] += 1\n",
    "        \n",
    "    return individual\n",
    "        "
   ]
  },
  {
   "cell_type": "code",
   "execution_count": 285,
   "metadata": {},
   "outputs": [],
   "source": [
    "def optimize(population, x, n, function, min_or_max,end_optim, p_mutate=0.2):\n",
    "    '''\n",
    "    population : list of numpy arrays\n",
    "        zbiór wszystkich osobników\n",
    "    '''\n",
    "    best_individual_scores = []\n",
    "    iteration = 0\n",
    "    while True:\n",
    "        iteration += 1\n",
    "        #krzyzowanie i mutacja\n",
    "        embryons = []\n",
    "        for i in range(0, x, 2):\n",
    "            crossing_result = crossing(population[i], population[i+1], n)\n",
    "            for embryon in crossing_result:\n",
    "                population.append(mutate(embryon,p_mutate))\n",
    "        scores = []\n",
    "        for individual in population:\n",
    "            score = function(individual)\n",
    "            scores.append(score)\n",
    "            \n",
    "        if min_or_max == 'max':\n",
    "            reverse=True\n",
    "        elif min_or_max == 'min':\n",
    "            reverse=False\n",
    "        else:\n",
    "            raise Exception('min_or_max parameter invalid. Type \"min\" or \"max\".')\n",
    "            \n",
    "        population_score = sorted(zip(population, scores), key=lambda x:x[1], reverse=reverse)\n",
    "        best_individual_gen = population_score[0][0]\n",
    "        best_individual_score = population_score[0][1]\n",
    "        \n",
    "        best_individual_scores.append(best_individual_score)\n",
    "            \n",
    "        sorted_population, _ = zip(*population_score)\n",
    "        population = list(sorted_population[:x])\n",
    "        \n",
    "        print(f'Iteration: {iteration} | Best score: {best_individual_score}')\n",
    "        \n",
    "        # zakończ jeśli nie ma poprawy w 100 ostatnich iteracjach (?)\n",
    "        if len(set(best_individual_scores[-end_optim:])) == 1 and iteration > 10:\n",
    "            break\n",
    "        \n",
    "        \n",
    "    return best_individual_gen, best_individual_score\n",
    "        "
   ]
  },
  {
   "cell_type": "code",
   "execution_count": null,
   "metadata": {},
   "outputs": [],
   "source": []
  }
 ],
 "metadata": {
  "kernelspec": {
   "display_name": "Python 3",
   "language": "python",
   "name": "python3"
  },
  "language_info": {
   "codemirror_mode": {
    "name": "ipython",
    "version": 3
   },
   "file_extension": ".py",
   "mimetype": "text/x-python",
   "name": "python",
   "nbconvert_exporter": "python",
   "pygments_lexer": "ipython3",
   "version": "3.7.6"
  }
 },
 "nbformat": 4,
 "nbformat_minor": 4
}
