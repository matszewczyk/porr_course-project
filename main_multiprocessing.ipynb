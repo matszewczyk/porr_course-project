{
 "cells": [
  {
   "cell_type": "code",
   "execution_count": 1,
   "metadata": {},
   "outputs": [],
   "source": [
    "%run functions.ipynb\n",
    "import multiprocessing as mp\n",
    "import os\n",
    "import random\n",
    "import numpy as np"
   ]
  },
  {
   "cell_type": "code",
   "execution_count": 3,
   "metadata": {},
   "outputs": [
    {
     "data": {
      "text/plain": [
       "(-1.099965809992483,\n",
       " array([ 0,  0, -1,  0,  0,  0,  0,  0,  0,  0,  0,  0,  0,  0,  0,  0,  0,\n",
       "         0,  0,  0,  0,  0,  0,  0,  0,  1,  0,  0, -1,  0,  0,  0,  0,  0,\n",
       "         0,  0,  0,  1,  0,  0,  0,  0,  0,  0,  0,  0,  0,  0,  0,  0]))"
      ]
     },
     "execution_count": 3,
     "metadata": {},
     "output_type": "execute_result"
    }
   ],
   "source": [
    "# Wielkość populacji\n",
    "x = 100\n",
    "# Liczba genów osobnika\n",
    "n = 50\n",
    "# Minimalna wartość genu\n",
    "min_value_n = -30\n",
    "# Maksymalna wartość genu\n",
    "max_value_n = 30\n",
    "# Inicjowanie osobnika zerami (w przypadku tych zadan nie ma sensu)\n",
    "start_wth_zeros = False\n",
    "# Pradopodobieństwo mutacjmanager = mp.Manager()i\n",
    "p_mutate = 0.2\n",
    "# Funkcja oceny\n",
    "function = func2\n",
    "# Cel (min/max)\n",
    "min_or_max='max'\n",
    "# Zakończ, jeśli wynik najlepszego osobnika nie zmienił się od ... iteracji.\n",
    "end_optim=100\n",
    "# Liczba procesów\n",
    "p_num=8\n",
    "# Utworzenie managera procesów\n",
    "manager = mp.Manager()\n",
    "\n",
    "run_mp_alg(manager,x,n,function,min_or_max,end_optim,p_mutate,p_num,start_wth_zeros,min_value_n,max_value_n)"
   ]
  },
  {
   "cell_type": "code",
   "execution_count": null,
   "metadata": {},
   "outputs": [],
   "source": []
  }
 ],
 "metadata": {
  "kernelspec": {
   "display_name": "Python 3",
   "language": "python",
   "name": "python3"
  },
  "language_info": {
   "codemirror_mode": {
    "name": "ipython",
    "version": 3
   },
   "file_extension": ".py",
   "mimetype": "text/x-python",
   "name": "python",
   "nbconvert_exporter": "python",
   "pygments_lexer": "ipython3",
   "version": "3.6.8"
  }
 },
 "nbformat": 4,
 "nbformat_minor": 4
}
