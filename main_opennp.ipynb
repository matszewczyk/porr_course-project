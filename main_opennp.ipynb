{
 "cells": [
  {
   "cell_type": "code",
   "execution_count": 2,
   "metadata": {},
   "outputs": [],
   "source": [
    "%run functions.ipynb\n",
    "import pymp\n",
    "import multiprocessing"
   ]
  },
  {
   "cell_type": "code",
   "execution_count": 3,
   "metadata": {},
   "outputs": [],
   "source": [
    "# Wielkość populacji\n",
    "x = 100\n",
    "# Liczba genów osobnika\n",
    "n = 50\n",
    "# Minimalna wartość genu\n",
    "min_value_n = -30\n",
    "# Maksymalna wartość genu\n",
    "max_value_n = 30\n",
    "# Inicjowanie osobnika zerami (w przypadku tych zadan nie ma sensu)\n",
    "start_wth_zeros = False\n",
    "# Pradopodobieństwo mutacji\n",
    "p_mutate = 0.2\n",
    "# Funkcja oceny\n",
    "function = func2\n",
    "# Cel (min/max)\n",
    "min_or_max='max'\n",
    "# Zakończ, jeśli wynik najlepszego osobnika nie zmienił się od ... iteracji.\n",
    "end_optim=100"
   ]
  },
  {
   "cell_type": "code",
   "execution_count": 4,
   "metadata": {},
   "outputs": [],
   "source": [
    "population = initial_pop_generation(x,n,start_wth_zeros,min_value_n,max_value_n)"
   ]
  },
  {
   "cell_type": "code",
   "execution_count": 5,
   "metadata": {},
   "outputs": [
    {
     "ename": "ValueError",
     "evalue": "maximum supported dimension for an ndarray is 32, found 100",
     "output_type": "error",
     "traceback": [
      "\u001b[0;31m---------------------------------------------------------------------------\u001b[0m",
      "\u001b[0;31mValueError\u001b[0m                                Traceback (most recent call last)",
      "\u001b[0;32m<ipython-input-5-be440a280086>\u001b[0m in \u001b[0;36m<module>\u001b[0;34m\u001b[0m\n\u001b[0;32m----> 1\u001b[0;31m \u001b[0mpopulation\u001b[0m \u001b[0;34m=\u001b[0m \u001b[0mpymp\u001b[0m\u001b[0;34m.\u001b[0m\u001b[0mshared\u001b[0m\u001b[0;34m.\u001b[0m\u001b[0marray\u001b[0m\u001b[0;34m(\u001b[0m\u001b[0mpopulation\u001b[0m\u001b[0;34m)\u001b[0m\u001b[0;34m\u001b[0m\u001b[0;34m\u001b[0m\u001b[0m\n\u001b[0m",
      "\u001b[0;32m~/.local/lib/python3.6/site-packages/pymp/shared.py\u001b[0m in \u001b[0;36marray\u001b[0;34m(shape, dtype, autolock)\u001b[0m\n\u001b[1;32m     34\u001b[0m         \u001b[0;31m# https://www.reddit.com/r/Python/comments/j3qjb/parformatlabpool_replacement\u001b[0m\u001b[0;34m\u001b[0m\u001b[0;34m\u001b[0m\u001b[0;34m\u001b[0m\u001b[0m\n\u001b[1;32m     35\u001b[0m         \u001b[0m_warnings\u001b[0m\u001b[0;34m.\u001b[0m\u001b[0msimplefilter\u001b[0m\u001b[0;34m(\u001b[0m\u001b[0;34m\"ignore\"\u001b[0m\u001b[0;34m,\u001b[0m \u001b[0mRuntimeWarning\u001b[0m\u001b[0;34m)\u001b[0m\u001b[0;34m\u001b[0m\u001b[0;34m\u001b[0m\u001b[0m\n\u001b[0;32m---> 36\u001b[0;31m         \u001b[0mdata\u001b[0m \u001b[0;34m=\u001b[0m \u001b[0m_np\u001b[0m\u001b[0;34m.\u001b[0m\u001b[0mctypeslib\u001b[0m\u001b[0;34m.\u001b[0m\u001b[0mas_array\u001b[0m\u001b[0;34m(\u001b[0m\u001b[0mshared_arr\u001b[0m\u001b[0;34m)\u001b[0m\u001b[0;34m.\u001b[0m\u001b[0mview\u001b[0m\u001b[0;34m(\u001b[0m\u001b[0mdtype\u001b[0m\u001b[0;34m)\u001b[0m\u001b[0;34m.\u001b[0m\u001b[0mreshape\u001b[0m\u001b[0;34m(\u001b[0m\u001b[0mshape\u001b[0m\u001b[0;34m)\u001b[0m\u001b[0;34m\u001b[0m\u001b[0;34m\u001b[0m\u001b[0m\n\u001b[0m\u001b[1;32m     37\u001b[0m     \u001b[0;32mreturn\u001b[0m \u001b[0mdata\u001b[0m\u001b[0;34m\u001b[0m\u001b[0;34m\u001b[0m\u001b[0m\n\u001b[1;32m     38\u001b[0m \u001b[0;34m\u001b[0m\u001b[0m\n",
      "\u001b[0;31mValueError\u001b[0m: maximum supported dimension for an ndarray is 32, found 100"
     ]
    }
   ],
   "source": [
    "population = pymp.shared.array(population)"
   ]
  },
  {
   "cell_type": "code",
   "execution_count": null,
   "metadata": {},
   "outputs": [],
   "source": []
  },
  {
   "cell_type": "code",
   "execution_count": 146,
   "metadata": {},
   "outputs": [
    {
     "name": "stderr",
     "output_type": "stream",
     "text": [
      "Process Process-152:\n",
      "Traceback (most recent call last):\n",
      "  File \"/usr/lib/python3.6/multiprocessing/process.py\", line 258, in _bootstrap\n",
      "    self.run()\n",
      "Process Process-153:\n",
      "  File \"/usr/lib/python3.6/multiprocessing/process.py\", line 93, in run\n",
      "    self._target(*self._args, **self._kwargs)\n",
      "  File \"<ipython-input-143-439a6d8e4661>\", line 37, in optimize_parallel\n",
      "    data = out_queue.get(False)\n",
      "Traceback (most recent call last):\n",
      "  File \"/usr/lib/python3.6/multiprocessing/queues.py\", line 107, in get\n",
      "    raise Empty\n",
      "  File \"/usr/lib/python3.6/multiprocessing/process.py\", line 258, in _bootstrap\n",
      "    self.run()\n",
      "  File \"/usr/lib/python3.6/multiprocessing/process.py\", line 93, in run\n",
      "    self._target(*self._args, **self._kwargs)\n",
      "queue.Empty\n",
      "  File \"<ipython-input-143-439a6d8e4661>\", line 37, in optimize_parallel\n",
      "    data = out_queue.get(False)\n",
      "  File \"/usr/lib/python3.6/multiprocessing/queues.py\", line 107, in get\n",
      "    raise Empty\n",
      "queue.Empty\n"
     ]
    }
   ],
   "source": [
    "q1 = multiprocessing.Queue()\n",
    "q2 = multiprocessing.Queue()\n",
    "result_queue = multiprocessing.Queue()\n",
    "\n",
    "population = initial_pop_generation(x,n,start_wth_zeros,min_value_n,max_value_n)\n",
    "population2 = initial_pop_generation(x,n,start_wth_zeros,min_value_n,max_value_n)    \n",
    "\n",
    "process_1 = multiprocessing.Process(target=optimize_parallel, \n",
    "                            args=[population,x,n,function, \n",
    "                                  min_or_max,end_optim, \n",
    "                                  q2, q1,\n",
    "                                  result_queue,\n",
    "                                  p_mutate])\n",
    "\n",
    "process_2 = multiprocessing.Process(target=optimize_parallel, \n",
    "                            args=[population2,x,n,function, \n",
    "                                  min_or_max,end_optim, \n",
    "                                  q1, q2,\n",
    "                                  result_queue,\n",
    "                                  p_mutate])\n",
    "process_1.start()\n",
    "process_2.start()\n",
    "\n",
    "process_1.join()\n",
    "process_2.join()\n",
    "\n",
    "while not(q1.empty()):\n",
    "    print(q1.get())\n",
    "\n",
    "while not(q2.empty()):\n",
    "    print(q2.get())\n",
    "\n",
    "q1.close()\n",
    "q2.close()\n",
    "result_queue.close()\n",
    "q1.join_thread()\n",
    "q2.join_thread()\n",
    "result_queue.join_thread()"
   ]
  },
  {
   "cell_type": "code",
   "execution_count": 141,
   "metadata": {},
   "outputs": [
    {
     "data": {
      "text/plain": [
       "'x'"
      ]
     },
     "execution_count": 141,
     "metadata": {},
     "output_type": "execute_result"
    }
   ],
   "source": [
    "test_queue = multiprocessing.Queue()\n",
    "test_queue.put('x')\n",
    "test_queue.get()"
   ]
  },
  {
   "cell_type": "code",
   "execution_count": null,
   "metadata": {},
   "outputs": [],
   "source": []
  }
 ],
 "metadata": {
  "kernelspec": {
   "display_name": "Python 3",
   "language": "python",
   "name": "python3"
  },
  "language_info": {
   "codemirror_mode": {
    "name": "ipython",
    "version": 3
   },
   "file_extension": ".py",
   "mimetype": "text/x-python",
   "name": "python",
   "nbconvert_exporter": "python",
   "pygments_lexer": "ipython3",
   "version": "3.6.8"
  }
 },
 "nbformat": 4,
 "nbformat_minor": 4
}
