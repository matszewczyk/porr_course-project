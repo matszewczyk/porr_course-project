{
 "cells": [
  {
   "cell_type": "code",
   "execution_count": 1,
   "metadata": {},
   "outputs": [],
   "source": [
    "%run functions.ipynb"
   ]
  },
  {
   "cell_type": "code",
   "execution_count": 4,
   "metadata": {},
   "outputs": [
    {
     "name": "stdout",
     "output_type": "stream",
     "text": [
      "Najlepszy osobnik: [ 0  0  0  0  0  0  0  0  0 -1  0  0  0  0  0  0  0  0  0  0  0  0  0  0\n",
      "  1  0  0  0  0  0  0  0  0  0 -1  0 -1  0  0  0]\n",
      "\n",
      "Wynik dla najlepszego osobnika: 0.10656044810080556\n"
     ]
    }
   ],
   "source": [
    "# Wielkość populacji\n",
    "x = 100\n",
    "# Liczba genów osobnika\n",
    "n = 40\n",
    "# Minimalna wartość genu\n",
    "min_value_n = -40\n",
    "# Maksymalna wartość genu\n",
    "max_value_n = 40\n",
    "# Inicjowanie osobnika zerami (w przypadku tych zadan nie ma sensu)\n",
    "start_wth_zeros = False\n",
    "# Pradopodobieństwo mutacji\n",
    "p_mutate = 0.2\n",
    "# Funkcja oceny\n",
    "function = func1\n",
    "# Cel (min/max)\n",
    "min_or_max='min'\n",
    "# Zakończ, jeśli wynik najlepszego osobnika nie zmienił się od ... iteracji.\n",
    "end_optim=100\n",
    "\n",
    "population = initial_pop_generation(x,n,start_wth_zeros,min_value_n,max_value_n)\n",
    "best_gen, best_score,_,_ = optimize(population,x,n,function, min_or_max,end_optim,p_mutate)\n",
    "print(f'Najlepszy osobnik: {best_gen}\\n')\n",
    "print(f'Wynik dla najlepszego osobnika: {best_score}')"
   ]
  },
  {
   "cell_type": "code",
   "execution_count": null,
   "metadata": {},
   "outputs": [],
   "source": []
  },
  {
   "cell_type": "code",
   "execution_count": null,
   "metadata": {},
   "outputs": [],
   "source": []
  }
 ],
 "metadata": {
  "kernelspec": {
   "display_name": "Python 3",
   "language": "python",
   "name": "python3"
  },
  "language_info": {
   "codemirror_mode": {
    "name": "ipython",
    "version": 3
   },
   "file_extension": ".py",
   "mimetype": "text/x-python",
   "name": "python",
   "nbconvert_exporter": "python",
   "pygments_lexer": "ipython3",
   "version": "3.6.8"
  }
 },
 "nbformat": 4,
 "nbformat_minor": 4
}
